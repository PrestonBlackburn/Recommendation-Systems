{
 "cells": [
  {
   "cell_type": "code",
   "execution_count": 27,
   "metadata": {},
   "outputs": [],
   "source": [
    "from typing import Dict, Text\n",
    "import matplotlib.pyplot as plt\n",
    "from mpl_toolkits.axes_grid1 import make_axes_locatable\n",
    "import pandas as pd\n",
    "import numpy as np\n",
    "from datetime import datetime\n",
    "\n",
    "import tensorflow as tf\n",
    "import tensorflow_recommenders as tfrs\n",
    "from tensorflow import keras\n",
    "\n",
    "# for pulling data from aws s3 bucket\n",
    "import boto3"
   ]
  },
  {
   "cell_type": "markdown",
   "metadata": {},
   "source": [
    "# Import Data"
   ]
  },
  {
   "cell_type": "code",
   "execution_count": 6,
   "metadata": {},
   "outputs": [],
   "source": [
    "s3_bucket = \"beer-reviews-dataset-pb\"\n",
    "file_name = \"final_reviews.csv\"\n",
    "s3client = boto3.client('s3', region_name='us-east-2')\n",
    "\n",
    "s3_data = s3client.get_object(Bucket=s3_bucket, Key=file_name)\n",
    "df = pd.read_csv(s3_data['Body'])\n",
    "df = df.drop(columns = ['Unnamed: 0'])"
   ]
  },
  {
   "cell_type": "code",
   "execution_count": 7,
   "metadata": {},
   "outputs": [
    {
     "data": {
      "text/html": [
       "<div>\n",
       "<style scoped>\n",
       "    .dataframe tbody tr th:only-of-type {\n",
       "        vertical-align: middle;\n",
       "    }\n",
       "\n",
       "    .dataframe tbody tr th {\n",
       "        vertical-align: top;\n",
       "    }\n",
       "\n",
       "    .dataframe thead th {\n",
       "        text-align: right;\n",
       "    }\n",
       "</style>\n",
       "<table border=\"1\" class=\"dataframe\">\n",
       "  <thead>\n",
       "    <tr style=\"text-align: right;\">\n",
       "      <th></th>\n",
       "      <th>score</th>\n",
       "      <th>username</th>\n",
       "      <th>text</th>\n",
       "      <th>style</th>\n",
       "      <th>abv</th>\n",
       "      <th>brewery_name</th>\n",
       "      <th>beer_name</th>\n",
       "    </tr>\n",
       "  </thead>\n",
       "  <tbody>\n",
       "    <tr>\n",
       "      <th>0</th>\n",
       "      <td>3.68</td>\n",
       "      <td>Kemmerlin</td>\n",
       "      <td>A: Amber red color with a thin quickly dimi...</td>\n",
       "      <td>American Amber / Red Ale</td>\n",
       "      <td>5.3</td>\n",
       "      <td>Twisted Pine Brewing Company</td>\n",
       "      <td>Twisted Pine Amber Ale</td>\n",
       "    </tr>\n",
       "    <tr>\n",
       "      <th>1</th>\n",
       "      <td>3.35</td>\n",
       "      <td>dkoehler42</td>\n",
       "      <td>This beer is a good alternative to your sta...</td>\n",
       "      <td>American Amber / Red Ale</td>\n",
       "      <td>5.3</td>\n",
       "      <td>Twisted Pine Brewing Company</td>\n",
       "      <td>Twisted Pine Amber Ale</td>\n",
       "    </tr>\n",
       "    <tr>\n",
       "      <th>2</th>\n",
       "      <td>4.05</td>\n",
       "      <td>Rodekill</td>\n",
       "      <td>Easily one of the best American Amber ales ...</td>\n",
       "      <td>American Amber / Red Ale</td>\n",
       "      <td>5.3</td>\n",
       "      <td>Twisted Pine Brewing Company</td>\n",
       "      <td>Twisted Pine Amber Ale</td>\n",
       "    </tr>\n",
       "    <tr>\n",
       "      <th>3</th>\n",
       "      <td>2.80</td>\n",
       "      <td>Lukebell15</td>\n",
       "      <td></td>\n",
       "      <td>American Amber / Red Ale</td>\n",
       "      <td>5.3</td>\n",
       "      <td>Twisted Pine Brewing Company</td>\n",
       "      <td>Twisted Pine Amber Ale</td>\n",
       "    </tr>\n",
       "    <tr>\n",
       "      <th>4</th>\n",
       "      <td>2.56</td>\n",
       "      <td>jzlyo</td>\n",
       "      <td>Aroma is caramel malts and mild earthiness....</td>\n",
       "      <td>American Amber / Red Ale</td>\n",
       "      <td>5.3</td>\n",
       "      <td>Twisted Pine Brewing Company</td>\n",
       "      <td>Twisted Pine Amber Ale</td>\n",
       "    </tr>\n",
       "  </tbody>\n",
       "</table>\n",
       "</div>"
      ],
      "text/plain": [
       "   score    username                                               text  \\\n",
       "0   3.68   Kemmerlin     A: Amber red color with a thin quickly dimi...   \n",
       "1   3.35  dkoehler42     This beer is a good alternative to your sta...   \n",
       "2   4.05    Rodekill     Easily one of the best American Amber ales ...   \n",
       "3   2.80  Lukebell15                                                      \n",
       "4   2.56       jzlyo     Aroma is caramel malts and mild earthiness....   \n",
       "\n",
       "                      style  abv                  brewery_name  \\\n",
       "0  American Amber / Red Ale  5.3  Twisted Pine Brewing Company   \n",
       "1  American Amber / Red Ale  5.3  Twisted Pine Brewing Company   \n",
       "2  American Amber / Red Ale  5.3  Twisted Pine Brewing Company   \n",
       "3  American Amber / Red Ale  5.3  Twisted Pine Brewing Company   \n",
       "4  American Amber / Red Ale  5.3  Twisted Pine Brewing Company   \n",
       "\n",
       "                beer_name  \n",
       "0  Twisted Pine Amber Ale  \n",
       "1  Twisted Pine Amber Ale  \n",
       "2  Twisted Pine Amber Ale  \n",
       "3  Twisted Pine Amber Ale  \n",
       "4  Twisted Pine Amber Ale  "
      ]
     },
     "execution_count": 7,
     "metadata": {},
     "output_type": "execute_result"
    }
   ],
   "source": [
    "df.head()"
   ]
  },
  {
   "cell_type": "code",
   "execution_count": 8,
   "metadata": {},
   "outputs": [
    {
     "name": "stdout",
     "output_type": "stream",
     "text": [
      "my reviews: \n"
     ]
    },
    {
     "data": {
      "text/html": [
       "<div>\n",
       "<style scoped>\n",
       "    .dataframe tbody tr th:only-of-type {\n",
       "        vertical-align: middle;\n",
       "    }\n",
       "\n",
       "    .dataframe tbody tr th {\n",
       "        vertical-align: top;\n",
       "    }\n",
       "\n",
       "    .dataframe thead th {\n",
       "        text-align: right;\n",
       "    }\n",
       "</style>\n",
       "<table border=\"1\" class=\"dataframe\">\n",
       "  <thead>\n",
       "    <tr style=\"text-align: right;\">\n",
       "      <th></th>\n",
       "      <th>score</th>\n",
       "      <th>username</th>\n",
       "      <th>text</th>\n",
       "      <th>style</th>\n",
       "      <th>abv</th>\n",
       "      <th>brewery_name</th>\n",
       "      <th>beer_name</th>\n",
       "    </tr>\n",
       "  </thead>\n",
       "  <tbody>\n",
       "    <tr>\n",
       "      <th>503080</th>\n",
       "      <td>4.0</td>\n",
       "      <td>pblackburn</td>\n",
       "      <td>NaN</td>\n",
       "      <td>American IPA</td>\n",
       "      <td>6.5</td>\n",
       "      <td>WeldWerks Brewing Co.</td>\n",
       "      <td>Juicy Bits</td>\n",
       "    </tr>\n",
       "    <tr>\n",
       "      <th>503081</th>\n",
       "      <td>5.0</td>\n",
       "      <td>pblackburn</td>\n",
       "      <td>NaN</td>\n",
       "      <td>English Sweet / Milk Stout</td>\n",
       "      <td>7.2</td>\n",
       "      <td>WeldWerks Brewing Co.</td>\n",
       "      <td>PB+J Stout</td>\n",
       "    </tr>\n",
       "    <tr>\n",
       "      <th>503082</th>\n",
       "      <td>4.1</td>\n",
       "      <td>pblackburn</td>\n",
       "      <td>NaN</td>\n",
       "      <td>American IPA</td>\n",
       "      <td>6.7</td>\n",
       "      <td>WeldWerks Brewing Co.</td>\n",
       "      <td>Fruity Bits (Orange Creamsicle)</td>\n",
       "    </tr>\n",
       "    <tr>\n",
       "      <th>503083</th>\n",
       "      <td>3.4</td>\n",
       "      <td>pblackburn</td>\n",
       "      <td>NaN</td>\n",
       "      <td>American Imperial IPA</td>\n",
       "      <td>8.5</td>\n",
       "      <td>WeldWerks Brewing Co.</td>\n",
       "      <td>Extra Juicy Bits</td>\n",
       "    </tr>\n",
       "    <tr>\n",
       "      <th>503084</th>\n",
       "      <td>2.8</td>\n",
       "      <td>pblackburn</td>\n",
       "      <td>NaN</td>\n",
       "      <td>American Pale Wheat Ale</td>\n",
       "      <td>4.6</td>\n",
       "      <td>Odell Brewing Company</td>\n",
       "      <td>Odell Easy Street Unfiltered</td>\n",
       "    </tr>\n",
       "  </tbody>\n",
       "</table>\n",
       "</div>"
      ],
      "text/plain": [
       "        score    username text                       style  abv  \\\n",
       "503080    4.0  pblackburn  NaN                American IPA  6.5   \n",
       "503081    5.0  pblackburn  NaN  English Sweet / Milk Stout  7.2   \n",
       "503082    4.1  pblackburn  NaN                American IPA  6.7   \n",
       "503083    3.4  pblackburn  NaN       American Imperial IPA  8.5   \n",
       "503084    2.8  pblackburn  NaN     American Pale Wheat Ale  4.6   \n",
       "\n",
       "                 brewery_name                        beer_name  \n",
       "503080  WeldWerks Brewing Co.                       Juicy Bits  \n",
       "503081  WeldWerks Brewing Co.                       PB+J Stout  \n",
       "503082  WeldWerks Brewing Co.  Fruity Bits (Orange Creamsicle)  \n",
       "503083  WeldWerks Brewing Co.                 Extra Juicy Bits  \n",
       "503084  Odell Brewing Company     Odell Easy Street Unfiltered  "
      ]
     },
     "execution_count": 8,
     "metadata": {},
     "output_type": "execute_result"
    }
   ],
   "source": [
    "# append your reviews to the dataframe to get your own predictions\n",
    "print(\"my reviews: \")\n",
    "df[df['username']=='pblackburn'].head()"
   ]
  },
  {
   "cell_type": "code",
   "execution_count": 9,
   "metadata": {},
   "outputs": [],
   "source": [
    "# get users with at least 10 beers rated\n",
    "users_with_favorable_ratings = (df['username'].value_counts()\n",
    "                                .loc[lambda x: x>10]\n",
    "                                .loc[lambda x: x<100]\n",
    "                                .index.values)\n",
    "\n",
    "df = df[df['username'].isin(users_with_favorable_ratings)]"
   ]
  },
  {
   "cell_type": "markdown",
   "metadata": {},
   "source": [
    "# Retreival"
   ]
  },
  {
   "cell_type": "markdown",
   "metadata": {},
   "source": [
    "### Data Prep"
   ]
  },
  {
   "cell_type": "code",
   "execution_count": null,
   "metadata": {},
   "outputs": [],
   "source": [
    "# Clear any logs from previous runs\n",
    "rm -rf ./logs/"
   ]
  },
  {
   "cell_type": "code",
   "execution_count": 10,
   "metadata": {},
   "outputs": [],
   "source": [
    "# create dicts of unique beers and users for embeddings\n",
    "\n",
    "df_beer = df['beer_name'].unique()\n",
    "df_beer = pd.DataFrame(df_beer, columns = ['beer_name'])\n",
    "\n",
    "df_ratings = df[['username', 'beer_name']]\n",
    "df_ratings = df_ratings.dropna()\n",
    "\n",
    "# convert dataframes to tensors\n",
    "tf_beer_dict = tf.data.Dataset.from_tensor_slices(dict(df_beer))\n",
    "tf_ratings_dict = tf.data.Dataset.from_tensor_slices(dict(df_ratings))"
   ]
  },
  {
   "cell_type": "code",
   "execution_count": 11,
   "metadata": {},
   "outputs": [],
   "source": [
    "# map rows to a dictionary\n",
    "ratings = tf_ratings_dict.map(lambda x: {\n",
    "    \"beer_name\": x[\"beer_name\"],\n",
    "    \"username\": x[\"username\"]\n",
    "})\n",
    "\n",
    "beer_list = tf_beer_dict.map(lambda x: x['beer_name'])"
   ]
  },
  {
   "cell_type": "code",
   "execution_count": 12,
   "metadata": {},
   "outputs": [],
   "source": [
    "# we'll use these later for the embeddings\n",
    "usernames = ratings.map(lambda x: x['username'])\n",
    "unique_users = np.unique(np.concatenate(list(usernames.batch(1000))))\n",
    "unique_beers = np.unique(np.concatenate(list(beer_list.batch(1000))))"
   ]
  },
  {
   "cell_type": "code",
   "execution_count": 13,
   "metadata": {},
   "outputs": [],
   "source": [
    "# shuffle + test/train split\n",
    "tf.random.set_seed(42)\n",
    "shuffled = ratings.shuffle(len(df), seed=42, reshuffle_each_iteration=False)\n",
    "                          \n",
    "train = shuffled.take(int(len(df)*0.8))\n",
    "test = shuffled.skip(int(len(df)*0.8)).take(int(len(df)*0.2))"
   ]
  },
  {
   "cell_type": "markdown",
   "metadata": {},
   "source": [
    "### Modeling"
   ]
  },
  {
   "cell_type": "code",
   "execution_count": 14,
   "metadata": {},
   "outputs": [
    {
     "name": "stdout",
     "output_type": "stream",
     "text": [
      "The tensorboard extension is already loaded. To reload it, use:\n",
      "  %reload_ext tensorboard\n"
     ]
    }
   ],
   "source": [
    "%load_ext tensorboard"
   ]
  },
  {
   "cell_type": "code",
   "execution_count": 15,
   "metadata": {},
   "outputs": [],
   "source": [
    "# extend the tfrs class\n",
    "class BeerRetreival(tfrs.Model):\n",
    "    def __init__(self):\n",
    "        super().__init__()\n",
    "        \n",
    "        embedding_dims = 32\n",
    "        self.user_model =  tf.keras.Sequential([\n",
    "            tf.keras.layers.StringLookup(\n",
    "                vocabulary= unique_users, mask_token=None),\n",
    "            tf.keras.layers.Embedding(len(unique_users)+1, embedding_dims)\n",
    "        ])\n",
    "\n",
    "        self.beer_model = tf.keras.Sequential([\n",
    "            tf.keras.layers.StringLookup(\n",
    "                vocabulary=unique_beers, mask_token=None),\n",
    "            tf.keras.layers.Embedding(len(unique_beers)+1, embedding_dims)\n",
    "        ])\n",
    "\n",
    "        self.task = tfrs.tasks.Retrieval(\n",
    "                        metrics=tfrs.metrics.FactorizedTopK(\n",
    "                        candidates=beer_list.batch(128).cache().map(self.beer_model)\n",
    "                        ))\n",
    "        \n",
    "    \n",
    "    def compute_loss(self, features: Dict[Text, tf.Tensor], training=False) -> tf.Tensor:\n",
    "        user_embeddings = self.user_model(features['username'])\n",
    "        beer_embeddings = self.beer_model(features['beer_name'])\n",
    "        return self.task(user_embeddings, beer_embeddings)\n",
    "        "
   ]
  },
  {
   "cell_type": "code",
   "execution_count": 28,
   "metadata": {},
   "outputs": [],
   "source": [
    "# Define the Keras TensorBoard callback.\n",
    "logdir=\"logs/fit/\" + datetime.now().strftime(\"%Y%m%d-%H%M%S\")\n",
    "tensorboard_callback = keras.callbacks.TensorBoard(log_dir=logdir)"
   ]
  },
  {
   "cell_type": "code",
   "execution_count": 29,
   "metadata": {},
   "outputs": [],
   "source": [
    "# initiate Model\n",
    "model = BeerRetreival()\n",
    "model.compile(optimizer=tf.keras.optimizers.Adagrad(0.5))"
   ]
  },
  {
   "cell_type": "code",
   "execution_count": 30,
   "metadata": {},
   "outputs": [],
   "source": [
    "# Train Model\n",
    "\n",
    "freq = 2\n",
    "epochs = 20\n",
    "\n",
    "history = model.fit(\n",
    "    \n",
    "                train.batch(8192),\n",
    "                validation_data= test.batch(512),\n",
    "                validation_freq=freq,\n",
    "                epochs = epochs,\n",
    "                verbose = 0,\n",
    "                callbacks=[tensorboard_callback])"
   ]
  },
  {
   "cell_type": "markdown",
   "metadata": {},
   "source": [
    "### Validation"
   ]
  },
  {
   "cell_type": "code",
   "execution_count": 31,
   "metadata": {},
   "outputs": [
    {
     "data": {
      "text/plain": [
       "Reusing TensorBoard on port 6006 (pid 912), started 0:21:38 ago. (Use '!kill 912' to kill it.)"
      ]
     },
     "metadata": {},
     "output_type": "display_data"
    },
    {
     "data": {
      "text/html": [
       "\n",
       "      <iframe id=\"tensorboard-frame-a9a47055b619a96a\" width=\"100%\" height=\"800\" frameborder=\"0\">\n",
       "      </iframe>\n",
       "      <script>\n",
       "        (function() {\n",
       "          const frame = document.getElementById(\"tensorboard-frame-a9a47055b619a96a\");\n",
       "          const url = new URL(\"/\", window.location);\n",
       "          const port = 6006;\n",
       "          if (port) {\n",
       "            url.port = port;\n",
       "          }\n",
       "          frame.src = url;\n",
       "        })();\n",
       "      </script>\n",
       "    "
      ],
      "text/plain": [
       "<IPython.core.display.HTML object>"
      ]
     },
     "metadata": {},
     "output_type": "display_data"
    }
   ],
   "source": [
    "%tensorboard --logdir logs/fit"
   ]
  },
  {
   "cell_type": "code",
   "execution_count": 29,
   "metadata": {},
   "outputs": [
    {
     "name": "stdout",
     "output_type": "stream",
     "text": [
      "7/7 [==============================] - 5s 678ms/step - factorized_top_k/top_1_categorical_accuracy: 1.9357e-04 - factorized_top_k/top_5_categorical_accuracy: 0.0039 - factorized_top_k/top_10_categorical_accuracy: 0.0161 - factorized_top_k/top_50_categorical_accuracy: 0.1749 - factorized_top_k/top_100_categorical_accuracy: 0.3278 - loss: 62547.5200 - regularization_loss: 0.0000e+00 - total_loss: 62547.5200\n"
     ]
    },
    {
     "data": {
      "text/plain": [
       "{'factorized_top_k/top_1_categorical_accuracy': 0.00019356962002348155,\n",
       " 'factorized_top_k/top_5_categorical_accuracy': 0.0038520353846251965,\n",
       " 'factorized_top_k/top_10_categorical_accuracy': 0.01612434908747673,\n",
       " 'factorized_top_k/top_50_categorical_accuracy': 0.17494821548461914,\n",
       " 'factorized_top_k/top_100_categorical_accuracy': 0.3278488516807556,\n",
       " 'loss': 20443.767578125,\n",
       " 'regularization_loss': 0,\n",
       " 'total_loss': 20443.767578125}"
      ]
     },
     "execution_count": 29,
     "metadata": {},
     "output_type": "execute_result"
    }
   ],
   "source": [
    "model.evaluate(test.batch(8192), return_dict=True)"
   ]
  },
  {
   "cell_type": "code",
   "execution_count": 33,
   "metadata": {},
   "outputs": [
    {
     "data": {
      "text/plain": [
       "<matplotlib.legend.Legend at 0x2939d5db520>"
      ]
     },
     "execution_count": 33,
     "metadata": {},
     "output_type": "execute_result"
    },
    {
     "data": {
      "image/png": "[encoded data removed]",
      "text/plain": [
       "<Figure size 864x432 with 1 Axes>"
      ]
     },
     "metadata": {
      "needs_background": "light"
     },
     "output_type": "display_data"
    }
   ],
   "source": [
    "#notice how back the accuracy is when only prediction the top 10 since no scores are input\n",
    "plt.figure(figsize=(12,6))\n",
    "num_validation_runs = len(history.history[\"val_factorized_top_k/top_100_categorical_accuracy\"])\n",
    "epochs = [(x + 1)* freq for x in range(num_validation_runs)]\n",
    "\n",
    "plt.plot(epochs, history.history[\"val_factorized_top_k/top_100_categorical_accuracy\"], label = \"Validation Top 100\")\n",
    "plt.plot(np.linspace(1, len( history.history[\"factorized_top_k/top_100_categorical_accuracy\"]), \n",
    "                     len( history.history[\"factorized_top_k/top_100_categorical_accuracy\"])),\n",
    "                     history.history[\"factorized_top_k/top_100_categorical_accuracy\"], label = \"Training Top 100\")\n",
    "plt.plot(epochs, history.history[\"val_factorized_top_k/top_10_categorical_accuracy\"], label = \"Validation Top 10\")\n",
    "plt.plot(np.linspace(1, len( history.history[\"factorized_top_k/top_10_categorical_accuracy\"]), \n",
    "                     len( history.history[\"factorized_top_k/top_10_categorical_accuracy\"])),\n",
    "                     history.history[\"factorized_top_k/top_10_categorical_accuracy\"], label = \"Training Top 10\")\n",
    "plt.title(\"Top-100 vs Top-10 Recommendations\")\n",
    "plt.xlabel(\"epoch\")\n",
    "plt.ylabel(\"accuracy\")\n",
    "plt.legend()\n"
   ]
  },
  {
   "cell_type": "markdown",
   "metadata": {},
   "source": [
    "### Save and test model"
   ]
  },
  {
   "cell_type": "code",
   "execution_count": 42,
   "metadata": {},
   "outputs": [
    {
     "name": "stderr",
     "output_type": "stream",
     "text": [
      "WARNING:absl:Found untraced functions such as query_with_exclusions while saving (showing 1 of 1). These functions will not be directly callable after loading.\n"
     ]
    },
    {
     "name": "stdout",
     "output_type": "stream",
     "text": [
      "INFO:tensorflow:Assets written to: models/beer_retrieval_model\\assets\n"
     ]
    },
    {
     "name": "stderr",
     "output_type": "stream",
     "text": [
      "INFO:tensorflow:Assets written to: models/beer_retrieval_model\\assets\n"
     ]
    }
   ],
   "source": [
    "# Save Model\n",
    "\n",
    "# ScaNN can be used in production instead of brute force to speed up prediction times\n",
    "# Since this is a small dataset  I'll just use brute force\n",
    "# \"k\" dictates the number of recommendations to be pulled in production\n",
    "brute_force = tfrs.layers.factorized_top_k.BruteForce(model.user_model, k=500)\n",
    "brute_force.index_from_dataset(\n",
    "    beer_list.batch(128).map(lambda beer_name: (beer_name, model.beer_model(beer_name)))\n",
    ")\n",
    "\n",
    "# Need to call it to set the shapes.The string could be anything\n",
    "_ = brute_force(np.array([\"pblackburn\"]))\n",
    "\n",
    "#tf.saved_model.save(\n",
    "#  brute_force,\n",
    "#  'models/beer_retrieval_model')"
   ]
  },
  {
   "cell_type": "code",
   "execution_count": 43,
   "metadata": {},
   "outputs": [],
   "source": [
    "retrieval_model = tf.saved_model.load('models/beer_retrieval_model')"
   ]
  },
  {
   "cell_type": "code",
   "execution_count": 44,
   "metadata": {},
   "outputs": [
    {
     "name": "stdout",
     "output_type": "stream",
     "text": [
      "Top recommendations: [b'PB+J Stout' b'Sippin\\xc3\\xa2\\xe2\\x82\\xac\\xe2\\x84\\xa2 Pretty'\n",
      " b'Fruity Bits (Orange Creamsicle)' b'Odell Easy Street Unfiltered'\n",
      " b'Ginger Bee' b'Drumroll APA' b'Texas IPA' b'Voodoo Ranger Imperial IPA'\n",
      " b'Cloud Catcher' b'No Shade']\n"
     ]
    }
   ],
   "source": [
    "# Get My Beer Results\n",
    "_, beers = retrieval_model(tf.constant([\"pblackburn\"]))\n",
    "print(f\"Top recommendations: {beers[0][:10]}\")\n"
   ]
  },
  {
   "cell_type": "markdown",
   "metadata": {},
   "source": [
    "# Ranking"
   ]
  },
  {
   "cell_type": "markdown",
   "metadata": {},
   "source": [
    "### Data Prep"
   ]
  },
  {
   "cell_type": "code",
   "execution_count": 35,
   "metadata": {},
   "outputs": [],
   "source": [
    "# fill any NaNs with blanks (tensorflow hates nans)\n",
    "df.fillna(value='', inplace=True)\n",
    "\n",
    "# Convert data types to ideal data types for tensors\n",
    "df['score'] = df['score'].astype('float32')\n",
    "df['username'] = df['username'].astype('string')\n",
    "df['text'] = df['text'].astype('string')\n",
    "df['style'] = df['style'].astype('string')\n",
    "df['abv'] = df['abv'].astype('float32')\n",
    "df['brewery_name'] = df['brewery_name'].astype('string')\n",
    "df['beer_name'] = df['beer_name'].astype('string')"
   ]
  },
  {
   "cell_type": "code",
   "execution_count": 36,
   "metadata": {},
   "outputs": [],
   "source": [
    "# convert dataframes to tensors- \n",
    "tf_dict_df = tf.data.Dataset.from_tensor_slices(dict(df))\n",
    "\n",
    "# map rows to a dictionary\n",
    "beer_ratings = tf_dict_df.map(lambda x: {\n",
    "    \"score\": x[\"score\"],\n",
    "    \"username\": x[\"username\"],\n",
    "    \"review_text\": x[\"text\"],\n",
    "    \"style\": x[\"style\"],\n",
    "    \"abv\": int(x['abv']),\n",
    "    \"brewery_name\": x['brewery_name'],\n",
    "    \"beer_name\": x['beer_name'],\n",
    "})"
   ]
  },
  {
   "cell_type": "code",
   "execution_count": 37,
   "metadata": {},
   "outputs": [],
   "source": [
    "feature_names = [\"username\", \"style\", \"brewery_name\",\n",
    "                 \"beer_name\", \"abv\"]\n",
    "\n",
    "vocabularies = {}\n",
    "\n",
    "# come up with vocab lists for string variables (doesn't really handle review text now)\n",
    "# floats will automatically get converted to integers\n",
    "for feature_name in feature_names:\n",
    "    vocab = beer_ratings.batch(1000000).map(lambda x: x[feature_name])\n",
    "    vocabularies[feature_name] = np.unique(np.concatenate(list(vocab)))"
   ]
  },
  {
   "cell_type": "code",
   "execution_count": 38,
   "metadata": {},
   "outputs": [],
   "source": [
    "# test/train split\n",
    "\n",
    "tf.random.set_seed(2001)\n",
    "dataset_train_split = int(len(beer_ratings)*0.8)\n",
    "dataset_test_split = int(len(beer_ratings)*0.2)\n",
    "\n",
    "shuffled = beer_ratings.shuffle(dataset_train_split, seed=2001, reshuffle_each_iteration=False)\n",
    "\n",
    "train = shuffled.take(dataset_train_split)\n",
    "test = shuffled.skip(dataset_train_split).take(dataset_test_split)\n",
    "\n",
    "cached_train = train.shuffle(100000).batch(8192).cache()\n",
    "cached_test = test.batch(4096).cache()"
   ]
  },
  {
   "cell_type": "markdown",
   "metadata": {},
   "source": [
    "### Modeling"
   ]
  },
  {
   "cell_type": "code",
   "execution_count": 39,
   "metadata": {},
   "outputs": [],
   "source": [
    "class DCN(tfrs.Model):\n",
    "    def __init__(self, use_cross_layer, deep_layer_sizes, projection_dim=None):\n",
    "        super().__init__()\n",
    "        \n",
    "        self.embedding_dimension = 32\n",
    "        \n",
    "        str_features = [\"username\", \"style\", \"brewery_name\",\n",
    "                         \"beer_name\"]\n",
    "        int_features = [\"abv\"]\n",
    "        \n",
    "        self._all_features = str_features + int_features\n",
    "        self._embeddings = {}\n",
    "        \n",
    "        # compute embeddings for string features\n",
    "        for feature_name in str_features:\n",
    "            vocabulary = vocabularies[feature_name]\n",
    "            self._embeddings[feature_name] = tf.keras.Sequential(\n",
    "                [tf.keras.layers.StringLookup(\n",
    "                    vocabulary=vocabulary, mask_token=None),\n",
    "                 tf.keras.layers.Embedding(len(vocabulary)+1, \n",
    "                                                self.embedding_dimension)\n",
    "                ])\n",
    "\n",
    "\n",
    "        vocabulary = vocabularies['abv']\n",
    "        self._embeddings['abv'] = tf.keras.Sequential([\n",
    "            tf.keras.layers.IntegerLookup(\n",
    "                vocabulary=vocabulary, mask_token=None),\n",
    "            tf.keras.layers.Embedding(len(vocabulary)+1, \n",
    "                                         self.embedding_dimension)\n",
    "        ])\n",
    "        \n",
    "        if use_cross_layer:\n",
    "            self._cross_layer = tfrs.layers.dcn.Cross(\n",
    "                projection_dim=projection_dim,\n",
    "                kernel_initializer=\"glorot_uniform\")\n",
    "        else:\n",
    "            self._cross_layer = None\n",
    "            \n",
    "        self._deep_layers = [tf.keras.layers.Dense(layer_size, activation=\"relu\")\n",
    "            for layer_size in deep_layer_sizes]\n",
    "        \n",
    "        self._logit_layer = tf.keras.layers.Dense(1)\n",
    "        \n",
    "        \n",
    "        self.task = tfrs.tasks.Ranking(\n",
    "                        loss=tf.keras.losses.MeanSquaredError(),\n",
    "                        metrics=[tf.keras.metrics.RootMeanSquaredError(\"RMSE\")]\n",
    "        )\n",
    "        \n",
    "    def call(self, features):\n",
    "        #concat embeddings\n",
    "        embeddings = []\n",
    "        for feature_name in self._all_features:\n",
    "            embedding_fn = self._embeddings[feature_name]\n",
    "            embeddings.append(embedding_fn(features[feature_name]))\n",
    "            \n",
    "        x = tf.concat(embeddings, axis=1)\n",
    "        \n",
    "        # build cross network\n",
    "        if self._cross_layer is not None:\n",
    "            x = self._cross_layer(x)\n",
    "            \n",
    "        # build deep network\n",
    "        for deep_layer in self._deep_layers:\n",
    "            x = deep_layer(x)\n",
    "            x = tf.keras.layers.Dropout(0.2)(x)\n",
    "\n",
    "        return self._logit_layer(x)\n",
    "    \n",
    "    \n",
    "    def compute_loss(self, features, training=False):\n",
    "        labels = features.pop(\"score\")\n",
    "        scores = self(features)\n",
    "        return self.task(\n",
    "                    labels=labels,\n",
    "                    predictions=scores,\n",
    "        )"
   ]
  },
  {
   "cell_type": "code",
   "execution_count": 41,
   "metadata": {},
   "outputs": [],
   "source": [
    "# Define the Keras TensorBoard callback.\n",
    "logdir=\"logs/fit/\" + datetime.now().strftime(\"%Y%m%d-%H%M%S\")\n",
    "tensorboard_callback = keras.callbacks.TensorBoard(log_dir=logdir)"
   ]
  },
  {
   "cell_type": "code",
   "execution_count": 42,
   "metadata": {},
   "outputs": [],
   "source": [
    "# Mess around with the using the cross layer + the deep layers\n",
    "learning_rate = 0.0001\n",
    "lr_model = DCN(use_cross_layer=True,\n",
    "                   deep_layer_sizes=[128, 128])\n",
    "lr_model.compile(optimizer=tf.keras.optimizers.Adam(learning_rate))"
   ]
  },
  {
   "cell_type": "code",
   "execution_count": 43,
   "metadata": {},
   "outputs": [],
   "source": [
    "freq = 2\n",
    "epochs = 100\n",
    "\n",
    "history = lr_model.fit(cached_train,\n",
    "                    validation_data = cached_test,\n",
    "                    validation_freq = freq,\n",
    "                    epochs=epochs,\n",
    "                    verbose=0,\n",
    "                    callbacks=[tensorboard_callback])\n"
   ]
  },
  {
   "cell_type": "markdown",
   "metadata": {},
   "source": [
    "### Validation"
   ]
  },
  {
   "cell_type": "code",
   "execution_count": 44,
   "metadata": {},
   "outputs": [
    {
     "data": {
      "text/plain": [
       "Reusing TensorBoard on port 6006 (pid 912), started 0:32:02 ago. (Use '!kill 912' to kill it.)"
      ]
     },
     "metadata": {},
     "output_type": "display_data"
    },
    {
     "data": {
      "text/html": [
       "\n",
       "      <iframe id=\"tensorboard-frame-2140617c562cbd87\" width=\"100%\" height=\"800\" frameborder=\"0\">\n",
       "      </iframe>\n",
       "      <script>\n",
       "        (function() {\n",
       "          const frame = document.getElementById(\"tensorboard-frame-2140617c562cbd87\");\n",
       "          const url = new URL(\"/\", window.location);\n",
       "          const port = 6006;\n",
       "          if (port) {\n",
       "            url.port = port;\n",
       "          }\n",
       "          frame.src = url;\n",
       "        })();\n",
       "      </script>\n",
       "    "
      ],
      "text/plain": [
       "<IPython.core.display.HTML object>"
      ]
     },
     "metadata": {},
     "output_type": "display_data"
    }
   ],
   "source": [
    "%tensorboard --logdir logs/fit"
   ]
  },
  {
   "cell_type": "code",
   "execution_count": 113,
   "metadata": {},
   "outputs": [
    {
     "name": "stdout",
     "output_type": "stream",
     "text": [
      "13/13 [==============================] - 0s 6ms/step - RMSE: 0.4172 - loss: 0.1724 - regularization_loss: 0.0000e+00 - total_loss: 0.1724\n"
     ]
    }
   ],
   "source": [
    "metrics = lr_model.evaluate(cached_test, return_dict=True)"
   ]
  },
  {
   "cell_type": "code",
   "execution_count": 114,
   "metadata": {},
   "outputs": [
    {
     "data": {
      "text/plain": [
       "<matplotlib.legend.Legend at 0x29396517a60>"
      ]
     },
     "execution_count": 114,
     "metadata": {},
     "output_type": "execute_result"
    },
    {
     "data": {
      "image/png": "[encoded data removed]",
      "text/plain": [
       "<Figure size 432x288 with 1 Axes>"
      ]
     },
     "metadata": {
      "needs_background": "light"
     },
     "output_type": "display_data"
    }
   ],
   "source": [
    "num_validation_runs = len(history.history[\"val_RMSE\"])\n",
    "epochs_val = [(x + 1)* freq for x in range(num_validation_runs)]\n",
    "\n",
    "plt.plot(epochs_val, history.history[\"val_RMSE\"], label = \"Validation\")\n",
    "plt.plot(np.linspace(1, len( history.history[\"RMSE\"]), \n",
    "                     len( history.history[\"RMSE\"]))[1:],\n",
    "                     history.history[\"RMSE\"][1:], label = \"Training\")\n",
    "plt.title(\"Accuracy vs epoch\")\n",
    "plt.xlabel(\"epoch\")\n",
    "plt.ylabel(\"RMSE\");\n",
    "plt.legend()\n"
   ]
  },
  {
   "cell_type": "code",
   "execution_count": 116,
   "metadata": {},
   "outputs": [
    {
     "data": {
      "text/plain": [
       "<Figure size 648x648 with 0 Axes>"
      ]
     },
     "metadata": {},
     "output_type": "display_data"
    },
    {
     "data": {
      "image/png": "[encoded data removed]",
      "text/plain": [
       "<Figure size 288x288 with 2 Axes>"
      ]
     },
     "metadata": {
      "needs_background": "light"
     },
     "output_type": "display_data"
    }
   ],
   "source": [
    "# Look at which cross features are important\n",
    "# darker collers have a absolute weight value\n",
    "mat = lr_model._cross_layer._dense.kernel\n",
    "features = lr_model._all_features\n",
    "\n",
    "block_norm = np.ones([len(features), len(features)])\n",
    "\n",
    "dim = lr_model.embedding_dimension\n",
    "\n",
    "# Compute the norms of the blocks.\n",
    "for i in range(len(features)):\n",
    "    for j in range(len(features)):\n",
    "        block = mat[i * dim:(i + 1) * dim,\n",
    "                    j * dim:(j + 1) * dim]\n",
    "        block_norm[i,j] = np.linalg.norm(block, ord=\"fro\")\n",
    "\n",
    "plt.figure(figsize=(9,9))\n",
    "im = plt.matshow(block_norm, cmap=plt.cm.Blues)\n",
    "ax = plt.gca()\n",
    "divider = make_axes_locatable(plt.gca())\n",
    "cax = divider.append_axes(\"right\", size=\"5%\", pad=0.05)\n",
    "plt.colorbar(im, cax=cax)\n",
    "cax.tick_params(labelsize=10) \n",
    "_ = ax.set_xticklabels([\"\"] + features, rotation=45, ha=\"left\", fontsize=10)\n",
    "_ = ax.set_yticklabels([\"\"] + features, fontsize=10)"
   ]
  },
  {
   "cell_type": "code",
   "execution_count": 129,
   "metadata": {},
   "outputs": [],
   "source": [
    "low_data = {'abv': np.array([8], dtype=np.int32),\n",
    " 'beer_name': np.array([\"Tree Shaker Imperial Peach IPA\"]), \n",
    " 'brewery_name': np.array([\"Odell Brewing Company\"]),\n",
    " 'review_text': np.array([\"\"]),\n",
    " 'style': np.array([\"American Imperial IPA\"]),\n",
    " 'username': np.array([\"pblackburn\"])}\n",
    "\n",
    "test_rating_low = lr_model(low_data)\n",
    "\n",
    "\n",
    "high_data = {\n",
    "      \"username\": np.array([\"pblackburn\"]),\n",
    "      \"style\":  np.array([\"English Sweet / Milk Stout\"]),\n",
    "        \"brewery_name\": np.array([\"WeldWerks Brewing Co.\"]),\n",
    "        'review_text': np.array([\"\"]),\n",
    "        \"abv\": np.array([7], dtype=np.int32),\n",
    "        \"beer_name\": np.array([\"PB+J Stout\"])  \n",
    "    }\n",
    "test_rating_high = lr_model(high_data)\n"
   ]
  },
  {
   "cell_type": "code",
   "execution_count": 130,
   "metadata": {},
   "outputs": [
    {
     "name": "stdout",
     "output_type": "stream",
     "text": [
      "Low Rating:\n",
      "[3.5879304]\n",
      "High Rating:\n",
      "[4.8492393]\n"
     ]
    }
   ],
   "source": [
    "print(\"Low Rating:\")\n",
    "print(test_rating_low.numpy().reshape(-1,))\n",
    "\n",
    "print(\"High Rating:\")\n",
    "print(test_rating_high.numpy().reshape(-1,))"
   ]
  },
  {
   "cell_type": "code",
   "execution_count": 120,
   "metadata": {},
   "outputs": [
    {
     "name": "stderr",
     "output_type": "stream",
     "text": [
      "WARNING:absl:Found untraced functions such as ranking_13_layer_call_fn, ranking_13_layer_call_and_return_conditional_losses, dense_layer_call_fn, dense_layer_call_and_return_conditional_losses, ranking_13_layer_call_fn while saving (showing 5 of 10). These functions will not be directly callable after loading.\n"
     ]
    },
    {
     "name": "stdout",
     "output_type": "stream",
     "text": [
      "INFO:tensorflow:Assets written to: models/beer_ranking_model\\assets\n"
     ]
    },
    {
     "name": "stderr",
     "output_type": "stream",
     "text": [
      "INFO:tensorflow:Assets written to: models/beer_ranking_model\\assets\n"
     ]
    }
   ],
   "source": [
    "#tf.saved_model.save(\n",
    "#  lr_model,\n",
    "#  'models/beer_ranking_model')"
   ]
  },
  {
   "cell_type": "code",
   "execution_count": 121,
   "metadata": {},
   "outputs": [],
   "source": [
    "ranking_model = tf.saved_model.load('models/beer_ranking_model')"
   ]
  },
  {
   "cell_type": "code",
   "execution_count": 131,
   "metadata": {},
   "outputs": [
    {
     "name": "stdout",
     "output_type": "stream",
     "text": [
      "Low Rating:\n",
      "[3.58793]\n",
      "High Rating:\n",
      "[4.8492393]\n"
     ]
    }
   ],
   "source": [
    "print(\"Low Rating:\")\n",
    "print(ranking_model(low_data).numpy().reshape(-1,))\n",
    "\n",
    "print(\"High Rating:\")\n",
    "print(ranking_model(high_data).numpy().reshape(-1,))"
   ]
  },
  {
   "cell_type": "markdown",
   "metadata": {},
   "source": [
    "# Putting It All Together"
   ]
  },
  {
   "cell_type": "code",
   "execution_count": 160,
   "metadata": {},
   "outputs": [],
   "source": [
    "# Retrieval\n",
    "retrieval_model = tf.saved_model.load('models/beer_retrieval_model')\n",
    "user = \"pblackburn\"\n",
    "\n",
    "_, beers = retrieval_model(tf.constant([user]))\n",
    "my_beer_list = [x.decode('UTF-8') for x in beers[0].numpy()]"
   ]
  },
  {
   "cell_type": "code",
   "execution_count": 192,
   "metadata": {},
   "outputs": [],
   "source": [
    "beer_info_df = df[['style', 'abv', 'brewery_name', 'beer_name']]\n",
    "beer_info_df = beer_info_df.groupby(by=['beer_name']).first().reset_index()\n",
    "retrieved_df = beer_info_df[beer_info_df['beer_name'].isin(my_beer_list)]"
   ]
  },
  {
   "cell_type": "code",
   "execution_count": 193,
   "metadata": {},
   "outputs": [
    {
     "data": {
      "text/html": [
       "<div>\n",
       "<style scoped>\n",
       "    .dataframe tbody tr th:only-of-type {\n",
       "        vertical-align: middle;\n",
       "    }\n",
       "\n",
       "    .dataframe tbody tr th {\n",
       "        vertical-align: top;\n",
       "    }\n",
       "\n",
       "    .dataframe thead th {\n",
       "        text-align: right;\n",
       "    }\n",
       "</style>\n",
       "<table border=\"1\" class=\"dataframe\">\n",
       "  <thead>\n",
       "    <tr style=\"text-align: right;\">\n",
       "      <th></th>\n",
       "      <th>beer_name</th>\n",
       "      <th>style</th>\n",
       "      <th>abv</th>\n",
       "      <th>brewery_name</th>\n",
       "    </tr>\n",
       "  </thead>\n",
       "  <tbody>\n",
       "    <tr>\n",
       "      <th>0</th>\n",
       "      <td>#42 Poblano Stout</td>\n",
       "      <td>English Oatmeal Stout</td>\n",
       "      <td>5.7</td>\n",
       "      <td>Big Choice Brewing, LLC</td>\n",
       "    </tr>\n",
       "    <tr>\n",
       "      <th>2</th>\n",
       "      <td>'Bout Damn Time</td>\n",
       "      <td>American IPA</td>\n",
       "      <td>7.3</td>\n",
       "      <td>4 Noses Brewing Company</td>\n",
       "    </tr>\n",
       "    <tr>\n",
       "      <th>5</th>\n",
       "      <td>(S)Pinner</td>\n",
       "      <td>American IPA</td>\n",
       "      <td>4.9</td>\n",
       "      <td>Oskar Blues Grill &amp; Brew</td>\n",
       "    </tr>\n",
       "    <tr>\n",
       "      <th>15</th>\n",
       "      <td>12 Apostles</td>\n",
       "      <td>German Kölsch</td>\n",
       "      <td>6.1</td>\n",
       "      <td>Westminster Brewing Company</td>\n",
       "    </tr>\n",
       "    <tr>\n",
       "      <th>16</th>\n",
       "      <td>13</td>\n",
       "      <td>American IPA</td>\n",
       "      <td>7.1</td>\n",
       "      <td>Crystal Springs Brewing Company</td>\n",
       "    </tr>\n",
       "  </tbody>\n",
       "</table>\n",
       "</div>"
      ],
      "text/plain": [
       "            beer_name                  style  abv  \\\n",
       "0   #42 Poblano Stout  English Oatmeal Stout  5.7   \n",
       "2     'Bout Damn Time           American IPA  7.3   \n",
       "5           (S)Pinner           American IPA  4.9   \n",
       "15        12 Apostles          German Kölsch  6.1   \n",
       "16                 13           American IPA  7.1   \n",
       "\n",
       "                       brewery_name  \n",
       "0           Big Choice Brewing, LLC  \n",
       "2           4 Noses Brewing Company  \n",
       "5          Oskar Blues Grill & Brew  \n",
       "15      Westminster Brewing Company  \n",
       "16  Crystal Springs Brewing Company  "
      ]
     },
     "execution_count": 193,
     "metadata": {},
     "output_type": "execute_result"
    }
   ],
   "source": [
    "retrieved_df.head()"
   ]
  },
  {
   "cell_type": "code",
   "execution_count": 211,
   "metadata": {},
   "outputs": [],
   "source": [
    "# manage data types\n",
    "ranking_list =  {'abv': np.array((retrieved_df['abv'].values), dtype=\"int32\"),\n",
    " 'beer_name': np.array(retrieved_df['beer_name'].values), \n",
    " 'brewery_name': np.array(retrieved_df['brewery_name'].values),\n",
    " 'review_text': np.array([\"\"]* 500),\n",
    " 'style': np.array((retrieved_df['style'].values), dtype=\"U26\"),\n",
    " 'username': np.array([user] * 500)}"
   ]
  },
  {
   "cell_type": "code",
   "execution_count": 195,
   "metadata": {},
   "outputs": [],
   "source": [
    "ranking_model = tf.saved_model.load('models/beer_ranking_model')"
   ]
  },
  {
   "cell_type": "code",
   "execution_count": 180,
   "metadata": {},
   "outputs": [],
   "source": [
    "mult_data = {'abv': np.array([8, 7]),\n",
    " 'beer_name': np.array([\"Tree Shaker Imperial Peach IPA\", \"PB+J Stout\"]), \n",
    " 'brewery_name': np.array([\"Odell Brewing Company\", \"WeldWerks Brewing Co.\"]),\n",
    " 'review_text': np.array([\"\", \"\"]),\n",
    " 'style': np.array([\"American Imperial IPA\", \"English Sweet / Milk Stout\"]),\n",
    " 'username': np.array([\"pblackburn\", \"pblackburn\"])}"
   ]
  },
  {
   "cell_type": "code",
   "execution_count": 232,
   "metadata": {},
   "outputs": [],
   "source": [
    "ranked_beers = ranking_model(ranking_list).numpy()"
   ]
  },
  {
   "cell_type": "code",
   "execution_count": 233,
   "metadata": {},
   "outputs": [
    {
     "name": "stderr",
     "output_type": "stream",
     "text": [
      "<ipython-input-233-c642c98c4aa9>:2: SettingWithCopyWarning: \n",
      "A value is trying to be set on a copy of a slice from a DataFrame.\n",
      "Try using .loc[row_indexer,col_indexer] = value instead\n",
      "\n",
      "See the caveats in the documentation: https://pandas.pydata.org/pandas-docs/stable/user_guide/indexing.html#returning-a-view-versus-a-copy\n",
      "  retrieved_df['rankings'] = ranked_beers\n"
     ]
    }
   ],
   "source": [
    "ranked_beers = ranking_model(ranking_list).numpy()\n",
    "retrieved_df['rankings'] = ranked_beers"
   ]
  },
  {
   "cell_type": "code",
   "execution_count": 234,
   "metadata": {},
   "outputs": [],
   "source": [
    "ranked_beers_df = retrieved_df.sort_values(by=['rankings'], ascending=False)\n",
    "#filter out any beers that I have already tried-\n",
    "ranked_beers_df = ranked_beers_df[~ranked_beers_df['beer_name'].isin(df[df['username']=='pblackburn']['beer_name'])]"
   ]
  },
  {
   "cell_type": "code",
   "execution_count": 235,
   "metadata": {},
   "outputs": [
    {
     "data": {
      "text/html": [
       "<div>\n",
       "<style scoped>\n",
       "    .dataframe tbody tr th:only-of-type {\n",
       "        vertical-align: middle;\n",
       "    }\n",
       "\n",
       "    .dataframe tbody tr th {\n",
       "        vertical-align: top;\n",
       "    }\n",
       "\n",
       "    .dataframe thead th {\n",
       "        text-align: right;\n",
       "    }\n",
       "</style>\n",
       "<table border=\"1\" class=\"dataframe\">\n",
       "  <thead>\n",
       "    <tr style=\"text-align: right;\">\n",
       "      <th></th>\n",
       "      <th>beer_name</th>\n",
       "      <th>style</th>\n",
       "      <th>abv</th>\n",
       "      <th>brewery_name</th>\n",
       "      <th>rankings</th>\n",
       "    </tr>\n",
       "  </thead>\n",
       "  <tbody>\n",
       "    <tr>\n",
       "      <th>836</th>\n",
       "      <td>Casey Family Preserves - Independence Nectarine</td>\n",
       "      <td>American Wild Ale</td>\n",
       "      <td>6.0</td>\n",
       "      <td>Casey Brewing &amp; Blending</td>\n",
       "      <td>4.463148</td>\n",
       "    </tr>\n",
       "    <tr>\n",
       "      <th>1009</th>\n",
       "      <td>Coconut Medianoche</td>\n",
       "      <td>American Imperial Stout</td>\n",
       "      <td>14.1</td>\n",
       "      <td>WeldWerks Brewing Co.</td>\n",
       "      <td>4.450992</td>\n",
       "    </tr>\n",
       "    <tr>\n",
       "      <th>4423</th>\n",
       "      <td>Trophy Hunt</td>\n",
       "      <td>American Imperial Stout</td>\n",
       "      <td>14.3</td>\n",
       "      <td>Cerebral Brewing</td>\n",
       "      <td>4.447557</td>\n",
       "    </tr>\n",
       "    <tr>\n",
       "      <th>2262</th>\n",
       "      <td>Intergalactic Juice Hunter 4.0</td>\n",
       "      <td>American Imperial IPA</td>\n",
       "      <td>8.0</td>\n",
       "      <td>Odd13 Brewing</td>\n",
       "      <td>4.430002</td>\n",
       "    </tr>\n",
       "    <tr>\n",
       "      <th>2335</th>\n",
       "      <td>Jumpseat</td>\n",
       "      <td>American Wild Ale</td>\n",
       "      <td>6.2</td>\n",
       "      <td>Black Project Spontaneous &amp; Wild Ales</td>\n",
       "      <td>4.409402</td>\n",
       "    </tr>\n",
       "  </tbody>\n",
       "</table>\n",
       "</div>"
      ],
      "text/plain": [
       "                                            beer_name  \\\n",
       "836   Casey Family Preserves - Independence Nectarine   \n",
       "1009                               Coconut Medianoche   \n",
       "4423                                      Trophy Hunt   \n",
       "2262                   Intergalactic Juice Hunter 4.0   \n",
       "2335                                         Jumpseat   \n",
       "\n",
       "                        style   abv                           brewery_name  \\\n",
       "836         American Wild Ale   6.0               Casey Brewing & Blending   \n",
       "1009  American Imperial Stout  14.1                  WeldWerks Brewing Co.   \n",
       "4423  American Imperial Stout  14.3                       Cerebral Brewing   \n",
       "2262    American Imperial IPA   8.0                          Odd13 Brewing   \n",
       "2335        American Wild Ale   6.2  Black Project Spontaneous & Wild Ales   \n",
       "\n",
       "      rankings  \n",
       "836   4.463148  \n",
       "1009  4.450992  \n",
       "4423  4.447557  \n",
       "2262  4.430002  \n",
       "2335  4.409402  "
      ]
     },
     "execution_count": 235,
     "metadata": {},
     "output_type": "execute_result"
    }
   ],
   "source": [
    "ranked_beers_df.head()"
   ]
  },
  {
   "cell_type": "code",
   "execution_count": 227,
   "metadata": {},
   "outputs": [],
   "source": [
    "ranked_beers_df.to_csv('beers_to_get.csv')"
   ]
  },
  {
   "cell_type": "markdown",
   "metadata": {},
   "source": [
    "# Change Model Format For AWS Sagemaker\n",
    "#### Models need to be converted to .tar.gz format, but...  \n",
    "#### SageMaker Requires .tar.gz files to have a specific folder hireachy:\n",
    "\n",
    "- export\n",
    "- - Servo\n",
    "- - - Number\n",
    "- - - - saved_model.pb\n",
    "- - - - assets\n",
    "- - - - variables\n",
    "- - - - - variables.data-00000-of-00001\n",
    "- - - - - variables.index"
   ]
  },
  {
   "cell_type": "code",
   "execution_count": 49,
   "metadata": {},
   "outputs": [],
   "source": [
    "import tarfile"
   ]
  },
  {
   "cell_type": "code",
   "execution_count": 53,
   "metadata": {},
   "outputs": [],
   "source": [
    "# Code for translating model folder to tar.gz format\n",
    "# I added some folders manually here first (see blog text)\n",
    "# Sagemaker (and TF Serving) requires a certain folder hierachy\n",
    "model_archive = 'model.tar.gz'\n",
    "with tarfile.open(model_archive, mode='w:gz') as archive:\n",
    "    archive.add('export', recursive=True) "
   ]
  },
  {
   "cell_type": "code",
   "execution_count": null,
   "metadata": {},
   "outputs": [],
   "source": []
  }
 ],
 "metadata": {
  "kernelspec": {
   "display_name": "Python 3",
   "language": "python",
   "name": "python3"
  },
  "language_info": {
   "codemirror_mode": {
    "name": "ipython",
    "version": 3
   },
   "file_extension": ".py",
   "mimetype": "text/x-python",
   "name": "python",
   "nbconvert_exporter": "python",
   "pygments_lexer": "ipython3",
   "version": "3.8.3"
  }
 },
 "nbformat": 4,
 "nbformat_minor": 4
}
