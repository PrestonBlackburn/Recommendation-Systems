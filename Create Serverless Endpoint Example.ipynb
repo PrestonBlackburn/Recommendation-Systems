{
 "cells": [
  {
   "cell_type": "markdown",
   "metadata": {},
   "source": [
    "# Create Endpoint"
   ]
  },
  {
   "cell_type": "markdown",
   "metadata": {},
   "source": [
    "#### Make sure everything is up to date to use the new Serverless Endpoint"
   ]
  },
  {
   "cell_type": "code",
   "execution_count": null,
   "metadata": {},
   "outputs": [],
   "source": [
    "! pip install sagemaker botocore boto3 awscli --upgrade"
   ]
  },
  {
   "cell_type": "code",
   "execution_count": null,
   "metadata": {},
   "outputs": [],
   "source": [
    "import boto3\n",
    "import sagemaker\n",
    "from sagemaker import ModelPackage\n",
    "from sagemaker import image_uris\n",
    "from time import gmtime, strftime"
   ]
  },
  {
   "cell_type": "markdown",
   "metadata": {},
   "source": [
    "#### 1. Create Model"
   ]
  },
  {
   "cell_type": "code",
   "execution_count": null,
   "metadata": {},
   "outputs": [],
   "source": [
    "region = boto3.Session().region_name\n",
    "client = boto3.client(\"sagemaker\", region_name=region)\n",
    "\n",
    "#Role to give SageMaker permission to access AWS services.\n",
    "sagemaker_role = sagemaker.get_execution_role()\n",
    "\n",
    "#Get model from S3\n",
    "# example path - \"s3://sagemaker-<region>-XXXXXXXXXXXX/<folder>/model/pipelines-XXXXXXXXXXXXXXX/output/model.tar.gz\"\n",
    "model_url = '<s3 path for created model>'\n",
    "\n",
    "\n",
    "#Get container image (prebuilt example used to model)\n",
    "container_uri = \"763104351884.dkr.ecr.us-east-2.amazonaws.com/tensorflow-inference:2.5-cpu\"\n",
    "\n",
    "#Create model name\n",
    "model_name = \"retrieval-endpoint-test\"\n",
    "\n",
    "response = client.create_model(\n",
    "    ModelName = model_name,\n",
    "    ExecutionRoleArn = sagemaker_role,\n",
    "    Containers = [{\n",
    "        \"Image\": container_uri,\n",
    "        \"Mode\": \"SingleModel\",\n",
    "        \"ModelDataUrl\": model_url,\n",
    "    }]\n",
    ")"
   ]
  },
  {
   "cell_type": "markdown",
   "metadata": {},
   "source": [
    "#### 2. Create Endpoint Config"
   ]
  },
  {
   "cell_type": "code",
   "execution_count": null,
   "metadata": {},
   "outputs": [],
   "source": [
    "retrieval_epc_name = \"retrieval-serverless-epc\" + strftime(\"%Y-%m-%d-%H-%M-%S\", gmtime())\n",
    "\n",
    "# Specify \"ServerlessConfig\" to create the serverless endpoint. \n",
    "endpoint_config_response = client.create_endpoint_config(\n",
    "    EndpointConfigName = retrieval_epc_name,\n",
    "    ProductionVariants = [\n",
    "        {\n",
    "            \"VariantName\": \"AllTraffic\",\n",
    "            \"ModelName\": model_name,\n",
    "            \"ServerlessConfig\": {\n",
    "                \"MemorySizeInMB\": 2048,\n",
    "                \"MaxConcurrency\": 1\n",
    "            },\n",
    "        },\n",
    "    ],\n",
    ")\n",
    "\n",
    "print(\"Endpoint Configuration Arn: \" + endpoint_config_response[\"EndpointConfigArn\"])"
   ]
  },
  {
   "cell_type": "markdown",
   "metadata": {},
   "source": [
    "#### 3. Create Serverless Endpoint"
   ]
  },
  {
   "cell_type": "code",
   "execution_count": null,
   "metadata": {},
   "outputs": [],
   "source": [
    "endpoint_name = \"retrieval-serverless-ep\" + strftime(\"%Y-%m-%d-%H-%M-%S\", gmtime())\n",
    "\n",
    "create_endpoint_response = client.create_endpoint(\n",
    "    EndpointName=endpoint_name,\n",
    "    EndpointConfigName=retrieval_epc_name,\n",
    ")\n",
    "\n",
    "print(\"Endpoint Arn: \" + create_endpoint_response[\"EndpointArn\"])"
   ]
  },
  {
   "cell_type": "markdown",
   "metadata": {},
   "source": [
    "#### 4. Test Endpoint"
   ]
  },
  {
   "cell_type": "code",
   "execution_count": null,
   "metadata": {},
   "outputs": [],
   "source": [
    "runtime = boto3.client(\"sagemaker-runtime\")\n",
    "\n",
    "endpoint_name = \"<your-endpoint-name>\"\n",
    "content_type = \"<request-mime-type>\"\n",
    "payload = <your-request-body>\n",
    "\n",
    "response = client.invoke_endpoint(\n",
    "    EndpointName=endpoint_name,\n",
    "    ContentType=content_type,\n",
    "    Body=payload\n",
    ")"
   ]
  },
  {
   "cell_type": "markdown",
   "metadata": {},
   "source": [
    "#### 5. Test Endpoint (After Setting Up API Gateway)"
   ]
  },
  {
   "cell_type": "code",
   "execution_count": null,
   "metadata": {},
   "outputs": [],
   "source": [
    "import requests"
   ]
  },
  {
   "cell_type": "code",
   "execution_count": null,
   "metadata": {},
   "outputs": [],
   "source": [
    "payload = \"pblackburn\"\n",
    "# exmaple URL path - https://XXXXXXXX.execute-api.<region>.amazonaws.com/<specified path>\n",
    "r = requests.post('<url path to API>', json=payload)\n"
   ]
  },
  {
   "cell_type": "code",
   "execution_count": null,
   "metadata": {},
   "outputs": [],
   "source": [
    "# show Predictions\n",
    "r.json()['predictions'][0]['output_2'][0:20]"
   ]
  },
  {
   "cell_type": "markdown",
   "metadata": {},
   "source": [
    "# Update Endpoint\n",
    "- Check deployed model\n",
    "- Check newly approved model\n",
    "- If the latest approved model is not deployed, then deploy the latest model  \n",
    "I use the arn as the model name, so it easy to see if the latest model is deployed"
   ]
  },
  {
   "cell_type": "code",
   "execution_count": null,
   "metadata": {},
   "outputs": [],
   "source": [
    "region = boto3.Session().region_name\n",
    "client = boto3.client(\"sagemaker\", region_name=region)\n",
    "\n",
    "#Role to give SageMaker permission to access AWS services.\n",
    "sagemaker_role = sagemaker.get_execution_role()"
   ]
  },
  {
   "cell_type": "code",
   "execution_count": null,
   "metadata": {},
   "outputs": [],
   "source": [
    "# Get models in the model registry\n",
    "updated_model_request = client.list_model_packages(\n",
    "ModelApprovalStatus='Approved',\n",
    "ModelPackageGroupName='PipelineModelPackageGroup',\n",
    "ModelPackageType='Both',\n",
    "SortBy='CreationTime',\n",
    "SortOrder='Descending'\n",
    ")\n",
    "most_recent_model_arn = updated_model_request['ModelPackageSummaryList'][0]['ModelPackageArn']\n",
    "model_name = most_recent_model_arn[-54:].replace(\"/\",\"\").replace(\":\",\"\")\n",
    "\n",
    "# Get endpoint data\n",
    "endpoint_response = client.describe_endpoint(\n",
    "EndpointName='retrieval-serverless-ep2021-12-10-15-22-49'\n",
    ")\n",
    "\n",
    "most_recent_endpoint_config = endpoint_response['EndpointConfigName']\n",
    "\n",
    "endpoint_config_response = client.describe_endpoint_config(\n",
    "    EndpointConfigName = most_recent_endpoint_config\n",
    ")\n",
    "\n",
    "current_endpoint_model = endpoint_config_response['ProductionVariants'][0]['ModelName']\n",
    "\n",
    "try:\n",
    "    if model_name != current_endpoint_model:\n",
    "        print(\"Updating Endpoint Model....\")\n",
    "        # pull s3 path for most recent model\n",
    "        s3_response = client.describe_model_package(\n",
    "            ModelPackageName = most_recent_model_arn\n",
    "        )\n",
    "        most_recent_s3_model_bucket = s3_response['InferenceSpecification']['Containers'][0]['ModelDataUrl']\n",
    "        #Get container image (prebuilt example)\n",
    "        container_uri = \"763104351884.dkr.ecr.us-east-2.amazonaws.com/tensorflow-inference:2.5-cpu\"\n",
    "        try:\n",
    "            #Create model\n",
    "            response = client.create_model(\n",
    "                ModelName = model_name,\n",
    "                ExecutionRoleArn = sagemaker_role,\n",
    "                Containers = [{\n",
    "                    \"Image\": container_uri,\n",
    "                    \"Mode\": \"SingleModel\",\n",
    "                    \"ModelDataUrl\": most_recent_s3_model_bucket,\n",
    "                }]\n",
    "            )\n",
    "        except:\n",
    "            print(\"Error creating model\")\n",
    "        \n",
    "\n",
    "        ## create endpoint config\n",
    "        retrieval_epc_name = \"retrieval-serverless-epc\" + strftime(\"%Y-%m-%d-%H-%M-%S\", gmtime())\n",
    "\n",
    "        endpoint_config_response = client.create_endpoint_config(\n",
    "            EndpointConfigName = retrieval_epc_name,\n",
    "            ProductionVariants = [ \n",
    "                {\n",
    "                    \"VariantName\": \"AllTraffic\",\n",
    "                    \"ModelName\": model_name,\n",
    "                    \"ServerlessConfig\": {\n",
    "                        \"MemorySizeInMB\": 2048,\n",
    "                        \"MaxConcurrency\": 1\n",
    "                    },\n",
    "                },\n",
    "            ],\n",
    "        )\n",
    "\n",
    "        ## update Endpoint\n",
    "        response = client.update_endpoint(\n",
    "            EndpointName='retrieval-serverless-ep2021-12-10-15-22-49',\n",
    "            EndpointConfigName= retrieval_epc_name\n",
    "        )\n",
    "\n",
    "        print(\"Endpoint updated successfully\")\n",
    "\n",
    "\n",
    "    else:\n",
    "        print(\"Model is already up to date\")\n",
    "\n",
    "except:\n",
    "    print(\"There was an issue updating the endpoint\")"
   ]
  }
 ],
 "metadata": {
  "instance_type": "ml.t3.medium",
  "kernelspec": {
   "display_name": "Python 3 (Data Science)",
   "language": "python",
   "name": "python3__SAGEMAKER_INTERNAL__arn:aws:sagemaker:us-east-2:429704687514:image/datascience-1.0"
  },
  "language_info": {
   "codemirror_mode": {
    "name": "ipython",
    "version": 3
   },
   "file_extension": ".py",
   "mimetype": "text/x-python",
   "name": "python",
   "nbconvert_exporter": "python",
   "pygments_lexer": "ipython3",
   "version": "3.7.10"
  }
 },
 "nbformat": 4,
 "nbformat_minor": 4
}
