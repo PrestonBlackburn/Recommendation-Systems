{
 "cells": [
  {
   "cell_type": "code",
   "execution_count": 1,
   "metadata": {},
   "outputs": [],
   "source": [
    "import tensorflow as tf\n",
    "import boto3\n",
    "import pandas as pd\n",
    "from sagemaker import get_execution_role\n",
    "import numpy as np\n",
    "import json"
   ]
  },
  {
   "cell_type": "code",
   "execution_count": 2,
   "metadata": {},
   "outputs": [],
   "source": [
    "import sagemaker\n",
    "from sagemaker.tensorflow.model import TensorFlowModel"
   ]
  },
  {
   "cell_type": "markdown",
   "metadata": {},
   "source": [
    "# Initial Prep"
   ]
  },
  {
   "cell_type": "code",
   "execution_count": 3,
   "metadata": {},
   "outputs": [
    {
     "name": "stderr",
     "output_type": "stream",
     "text": [
      "Couldn't call 'get_role' to get Role ARN from role name AmazonSageMaker-ExecutionRole-20210908T201427 to get Role path.\n",
      "Assuming role was created in SageMaker AWS console, as the name contains `AmazonSageMaker-ExecutionRole`. Defaulting to Role ARN with service-role in path. If this Role ARN is incorrect, please add IAM read permissions to your role or supply the Role Arn directly.\n"
     ]
    }
   ],
   "source": [
    "sagemaker_session = sagemaker.Session()\n",
    "role = sagemaker.get_execution_role()"
   ]
  },
  {
   "cell_type": "code",
   "execution_count": 4,
   "metadata": {},
   "outputs": [],
   "source": [
    "bucket_name = 'beer-reviews-dataset-pb'\n",
    "ret_model_path = 'ret_model/model.tar.gz'\n",
    "rank_model_path = 'rank_model/model.tar.gz'\n",
    "\n",
    "db_path = 'final_reviews.csv'"
   ]
  },
  {
   "cell_type": "code",
   "execution_count": 5,
   "metadata": {},
   "outputs": [],
   "source": [
    "# import data needed for inference\n",
    "s3client = boto3.client('s3', region_name='us-east-2')\n",
    "s3_data = s3client.get_object(Bucket=bucket_name, Key=db_path)\n",
    "df = pd.read_csv(s3_data['Body'])\n",
    "df = df.drop(columns = ['Unnamed: 0'])"
   ]
  },
  {
   "cell_type": "code",
   "execution_count": 6,
   "metadata": {},
   "outputs": [
    {
     "data": {
      "text/html": [
       "<div>\n",
       "<style scoped>\n",
       "    .dataframe tbody tr th:only-of-type {\n",
       "        vertical-align: middle;\n",
       "    }\n",
       "\n",
       "    .dataframe tbody tr th {\n",
       "        vertical-align: top;\n",
       "    }\n",
       "\n",
       "    .dataframe thead th {\n",
       "        text-align: right;\n",
       "    }\n",
       "</style>\n",
       "<table border=\"1\" class=\"dataframe\">\n",
       "  <thead>\n",
       "    <tr style=\"text-align: right;\">\n",
       "      <th></th>\n",
       "      <th>score</th>\n",
       "      <th>username</th>\n",
       "      <th>text</th>\n",
       "      <th>style</th>\n",
       "      <th>abv</th>\n",
       "      <th>brewery_name</th>\n",
       "      <th>beer_name</th>\n",
       "    </tr>\n",
       "  </thead>\n",
       "  <tbody>\n",
       "    <tr>\n",
       "      <th>0</th>\n",
       "      <td>3.68</td>\n",
       "      <td>Kemmerlin</td>\n",
       "      <td>A: Amber red color with a thin quickly dimi...</td>\n",
       "      <td>American Amber / Red Ale</td>\n",
       "      <td>5.3</td>\n",
       "      <td>Twisted Pine Brewing Company</td>\n",
       "      <td>Twisted Pine Amber Ale</td>\n",
       "    </tr>\n",
       "    <tr>\n",
       "      <th>1</th>\n",
       "      <td>3.35</td>\n",
       "      <td>dkoehler42</td>\n",
       "      <td>This beer is a good alternative to your sta...</td>\n",
       "      <td>American Amber / Red Ale</td>\n",
       "      <td>5.3</td>\n",
       "      <td>Twisted Pine Brewing Company</td>\n",
       "      <td>Twisted Pine Amber Ale</td>\n",
       "    </tr>\n",
       "    <tr>\n",
       "      <th>2</th>\n",
       "      <td>4.05</td>\n",
       "      <td>Rodekill</td>\n",
       "      <td>Easily one of the best American Amber ales ...</td>\n",
       "      <td>American Amber / Red Ale</td>\n",
       "      <td>5.3</td>\n",
       "      <td>Twisted Pine Brewing Company</td>\n",
       "      <td>Twisted Pine Amber Ale</td>\n",
       "    </tr>\n",
       "    <tr>\n",
       "      <th>3</th>\n",
       "      <td>2.80</td>\n",
       "      <td>Lukebell15</td>\n",
       "      <td></td>\n",
       "      <td>American Amber / Red Ale</td>\n",
       "      <td>5.3</td>\n",
       "      <td>Twisted Pine Brewing Company</td>\n",
       "      <td>Twisted Pine Amber Ale</td>\n",
       "    </tr>\n",
       "    <tr>\n",
       "      <th>4</th>\n",
       "      <td>2.56</td>\n",
       "      <td>jzlyo</td>\n",
       "      <td>Aroma is caramel malts and mild earthiness....</td>\n",
       "      <td>American Amber / Red Ale</td>\n",
       "      <td>5.3</td>\n",
       "      <td>Twisted Pine Brewing Company</td>\n",
       "      <td>Twisted Pine Amber Ale</td>\n",
       "    </tr>\n",
       "  </tbody>\n",
       "</table>\n",
       "</div>"
      ],
      "text/plain": [
       "   score    username                                               text  \\\n",
       "0   3.68   Kemmerlin     A: Amber red color with a thin quickly dimi...   \n",
       "1   3.35  dkoehler42     This beer is a good alternative to your sta...   \n",
       "2   4.05    Rodekill     Easily one of the best American Amber ales ...   \n",
       "3   2.80  Lukebell15                                                      \n",
       "4   2.56       jzlyo     Aroma is caramel malts and mild earthiness....   \n",
       "\n",
       "                      style  abv                  brewery_name  \\\n",
       "0  American Amber / Red Ale  5.3  Twisted Pine Brewing Company   \n",
       "1  American Amber / Red Ale  5.3  Twisted Pine Brewing Company   \n",
       "2  American Amber / Red Ale  5.3  Twisted Pine Brewing Company   \n",
       "3  American Amber / Red Ale  5.3  Twisted Pine Brewing Company   \n",
       "4  American Amber / Red Ale  5.3  Twisted Pine Brewing Company   \n",
       "\n",
       "                beer_name  \n",
       "0  Twisted Pine Amber Ale  \n",
       "1  Twisted Pine Amber Ale  \n",
       "2  Twisted Pine Amber Ale  \n",
       "3  Twisted Pine Amber Ale  \n",
       "4  Twisted Pine Amber Ale  "
      ]
     },
     "execution_count": 6,
     "metadata": {},
     "output_type": "execute_result"
    }
   ],
   "source": [
    "df.head()"
   ]
  },
  {
   "cell_type": "code",
   "execution_count": 7,
   "metadata": {},
   "outputs": [],
   "source": [
    "# Load TensorFlow Model For Retrieval\n",
    "\n",
    "# using tf version 2.3\n",
    "tf_framework_version = tf.__version__\n",
    "ret_model = TensorFlowModel(model_data=f's3://{bucket_name}/{ret_model_path}', role=role, framework_version=tf_framework_version )"
   ]
  },
  {
   "cell_type": "code",
   "execution_count": 8,
   "metadata": {},
   "outputs": [
    {
     "name": "stderr",
     "output_type": "stream",
     "text": [
      "update_endpoint is a no-op in sagemaker>=2.\n",
      "See: https://sagemaker.readthedocs.io/en/stable/v2.html for details.\n"
     ]
    },
    {
     "name": "stdout",
     "output_type": "stream",
     "text": [
      "---!"
     ]
    }
   ],
   "source": [
    "# Create Endpoint For Retrieval\n",
    "ret_predictor = ret_model.deploy(initial_instance_count=1, instance_type='ml.c5.xlarge')"
   ]
  },
  {
   "cell_type": "code",
   "execution_count": 15,
   "metadata": {},
   "outputs": [],
   "source": [
    "user = 'pblackburn'\n",
    "user_input = {\n",
    "  'instances': [user]\n",
    "}\n",
    "\n",
    "#returns dictionary of beer names + scores (we only need beer names)\n",
    "result = ret_predictor.predict(user_input)\n",
    "\n",
    "# Get list of beers\n",
    "# See TF graph for why we need to select output_2\n",
    "beer_list = result['predictions'][0]['output_2']\n",
    "\n",
    "#filter dataframe by retrieved beers\n",
    "beer_info_df = df[['style', 'abv', 'brewery_name', 'beer_name']]\n",
    "beer_info_df = beer_info_df.groupby(by=['beer_name']).first().reset_index()\n",
    "retrieved_df = beer_info_df[beer_info_df['beer_name'].isin(beer_list)]"
   ]
  },
  {
   "cell_type": "code",
   "execution_count": 16,
   "metadata": {},
   "outputs": [
    {
     "data": {
      "text/html": [
       "<div>\n",
       "<style scoped>\n",
       "    .dataframe tbody tr th:only-of-type {\n",
       "        vertical-align: middle;\n",
       "    }\n",
       "\n",
       "    .dataframe tbody tr th {\n",
       "        vertical-align: top;\n",
       "    }\n",
       "\n",
       "    .dataframe thead th {\n",
       "        text-align: right;\n",
       "    }\n",
       "</style>\n",
       "<table border=\"1\" class=\"dataframe\">\n",
       "  <thead>\n",
       "    <tr style=\"text-align: right;\">\n",
       "      <th></th>\n",
       "      <th>beer_name</th>\n",
       "      <th>style</th>\n",
       "      <th>abv</th>\n",
       "      <th>brewery_name</th>\n",
       "    </tr>\n",
       "  </thead>\n",
       "  <tbody>\n",
       "    <tr>\n",
       "      <th>3</th>\n",
       "      <td>#42 Poblano Stout</td>\n",
       "      <td>English Oatmeal Stout</td>\n",
       "      <td>5.7</td>\n",
       "      <td>Big Choice Brewing, LLC</td>\n",
       "    </tr>\n",
       "    <tr>\n",
       "      <th>8</th>\n",
       "      <td>'Bout Damn Time</td>\n",
       "      <td>American IPA</td>\n",
       "      <td>7.3</td>\n",
       "      <td>4 Noses Brewing Company</td>\n",
       "    </tr>\n",
       "    <tr>\n",
       "      <th>15</th>\n",
       "      <td>(S)Pinner</td>\n",
       "      <td>American IPA</td>\n",
       "      <td>4.9</td>\n",
       "      <td>Oskar Blues Grill &amp; Brew</td>\n",
       "    </tr>\n",
       "    <tr>\n",
       "      <th>36</th>\n",
       "      <td>12 Apostles</td>\n",
       "      <td>German Kölsch</td>\n",
       "      <td>6.1</td>\n",
       "      <td>Westminster Brewing Company</td>\n",
       "    </tr>\n",
       "    <tr>\n",
       "      <th>39</th>\n",
       "      <td>13</td>\n",
       "      <td>American IPA</td>\n",
       "      <td>7.1</td>\n",
       "      <td>Crystal Springs Brewing Company</td>\n",
       "    </tr>\n",
       "  </tbody>\n",
       "</table>\n",
       "</div>"
      ],
      "text/plain": [
       "            beer_name                  style  abv  \\\n",
       "3   #42 Poblano Stout  English Oatmeal Stout  5.7   \n",
       "8     'Bout Damn Time           American IPA  7.3   \n",
       "15          (S)Pinner           American IPA  4.9   \n",
       "36        12 Apostles          German Kölsch  6.1   \n",
       "39                 13           American IPA  7.1   \n",
       "\n",
       "                       brewery_name  \n",
       "3           Big Choice Brewing, LLC  \n",
       "8           4 Noses Brewing Company  \n",
       "15         Oskar Blues Grill & Brew  \n",
       "36      Westminster Brewing Company  \n",
       "39  Crystal Springs Brewing Company  "
      ]
     },
     "execution_count": 16,
     "metadata": {},
     "output_type": "execute_result"
    }
   ],
   "source": [
    "retrieved_df.head()"
   ]
  },
  {
   "cell_type": "code",
   "execution_count": 17,
   "metadata": {},
   "outputs": [],
   "source": [
    "# Load TensorFlow Model For Ranking\n",
    "\n",
    "# using tf version 2.3\n",
    "tf_framework_version = tf.__version__\n",
    "rank_model = TensorFlowModel(model_data=f's3://{bucket_name}/{rank_model_path}', role=role, framework_version=tf_framework_version )"
   ]
  },
  {
   "cell_type": "code",
   "execution_count": 18,
   "metadata": {},
   "outputs": [
    {
     "name": "stderr",
     "output_type": "stream",
     "text": [
      "update_endpoint is a no-op in sagemaker>=2.\n",
      "See: https://sagemaker.readthedocs.io/en/stable/v2.html for details.\n"
     ]
    },
    {
     "name": "stdout",
     "output_type": "stream",
     "text": [
      "---!"
     ]
    }
   ],
   "source": [
    "# Create Endpoint For Ranking\n",
    "rank_predictor = rank_model.deploy(initial_instance_count=1, instance_type='ml.c5.xlarge')"
   ]
  },
  {
   "cell_type": "code",
   "execution_count": 19,
   "metadata": {},
   "outputs": [],
   "source": [
    "# example mulit input:\n",
    "# can't use numpy arrays like when we could when using the TF .pb model\n",
    "# Instead we need a list of JSON inputs\n",
    "rank_input_example = {\n",
    "  'instances': [\n",
    "      {'abv': 7,\n",
    "     'beer_name': \"Tree Shaker Imperial Peach IPA\", \n",
    "     'brewery_name': \"Odell Brewing Company\",\n",
    "     'review_text': \"\",\n",
    "     'style': \"American Imperial IPA\",\n",
    "     'username': \"pblackburn\"}, \n",
    "    {'abv': 7,\n",
    "     'beer_name': \"Tree Shaker Imperial Peach IPA\", \n",
    "     'brewery_name': \"Odell Brewing Company\",\n",
    "     'review_text': \"\",\n",
    "     'style': \"American Imperial IPA\",\n",
    "     'username': \"pblackburn\"}\n",
    "  ]\n",
    "}\n"
   ]
  },
  {
   "cell_type": "code",
   "execution_count": 20,
   "metadata": {},
   "outputs": [
    {
     "name": "stderr",
     "output_type": "stream",
     "text": [
      "/usr/local/lib/python3.7/site-packages/ipykernel_launcher.py:2: SettingWithCopyWarning: \n",
      "A value is trying to be set on a copy of a slice from a DataFrame.\n",
      "Try using .loc[row_indexer,col_indexer] = value instead\n",
      "\n",
      "See the caveats in the documentation: https://pandas.pydata.org/pandas-docs/stable/user_guide/indexing.html#returning-a-view-versus-a-copy\n",
      "  \n",
      "/usr/local/lib/python3.7/site-packages/ipykernel_launcher.py:3: SettingWithCopyWarning: \n",
      "A value is trying to be set on a copy of a slice from a DataFrame.\n",
      "Try using .loc[row_indexer,col_indexer] = value instead\n",
      "\n",
      "See the caveats in the documentation: https://pandas.pydata.org/pandas-docs/stable/user_guide/indexing.html#returning-a-view-versus-a-copy\n",
      "  This is separate from the ipykernel package so we can avoid doing imports until\n",
      "/usr/local/lib/python3.7/site-packages/ipykernel_launcher.py:4: SettingWithCopyWarning: \n",
      "A value is trying to be set on a copy of a slice from a DataFrame.\n",
      "Try using .loc[row_indexer,col_indexer] = value instead\n",
      "\n",
      "See the caveats in the documentation: https://pandas.pydata.org/pandas-docs/stable/user_guide/indexing.html#returning-a-view-versus-a-copy\n",
      "  after removing the cwd from sys.path.\n"
     ]
    }
   ],
   "source": [
    "# add colums for user and review text\n",
    "retrieved_df['username'] = [user] * 500\n",
    "retrieved_df['review_text'] = [\"\"] * 500\n",
    "retrieved_df['abv'] = retrieved_df['abv'].astype('int32') #convert to int32 data type because that's what I use in the model"
   ]
  },
  {
   "cell_type": "code",
   "execution_count": 21,
   "metadata": {},
   "outputs": [
    {
     "data": {
      "text/html": [
       "<div>\n",
       "<style scoped>\n",
       "    .dataframe tbody tr th:only-of-type {\n",
       "        vertical-align: middle;\n",
       "    }\n",
       "\n",
       "    .dataframe tbody tr th {\n",
       "        vertical-align: top;\n",
       "    }\n",
       "\n",
       "    .dataframe thead th {\n",
       "        text-align: right;\n",
       "    }\n",
       "</style>\n",
       "<table border=\"1\" class=\"dataframe\">\n",
       "  <thead>\n",
       "    <tr style=\"text-align: right;\">\n",
       "      <th></th>\n",
       "      <th>beer_name</th>\n",
       "      <th>style</th>\n",
       "      <th>abv</th>\n",
       "      <th>brewery_name</th>\n",
       "      <th>username</th>\n",
       "      <th>review_text</th>\n",
       "    </tr>\n",
       "  </thead>\n",
       "  <tbody>\n",
       "    <tr>\n",
       "      <th>3</th>\n",
       "      <td>#42 Poblano Stout</td>\n",
       "      <td>English Oatmeal Stout</td>\n",
       "      <td>5</td>\n",
       "      <td>Big Choice Brewing, LLC</td>\n",
       "      <td>pblackburn</td>\n",
       "      <td></td>\n",
       "    </tr>\n",
       "    <tr>\n",
       "      <th>8</th>\n",
       "      <td>'Bout Damn Time</td>\n",
       "      <td>American IPA</td>\n",
       "      <td>7</td>\n",
       "      <td>4 Noses Brewing Company</td>\n",
       "      <td>pblackburn</td>\n",
       "      <td></td>\n",
       "    </tr>\n",
       "    <tr>\n",
       "      <th>15</th>\n",
       "      <td>(S)Pinner</td>\n",
       "      <td>American IPA</td>\n",
       "      <td>4</td>\n",
       "      <td>Oskar Blues Grill &amp; Brew</td>\n",
       "      <td>pblackburn</td>\n",
       "      <td></td>\n",
       "    </tr>\n",
       "    <tr>\n",
       "      <th>36</th>\n",
       "      <td>12 Apostles</td>\n",
       "      <td>German Kölsch</td>\n",
       "      <td>6</td>\n",
       "      <td>Westminster Brewing Company</td>\n",
       "      <td>pblackburn</td>\n",
       "      <td></td>\n",
       "    </tr>\n",
       "    <tr>\n",
       "      <th>39</th>\n",
       "      <td>13</td>\n",
       "      <td>American IPA</td>\n",
       "      <td>7</td>\n",
       "      <td>Crystal Springs Brewing Company</td>\n",
       "      <td>pblackburn</td>\n",
       "      <td></td>\n",
       "    </tr>\n",
       "  </tbody>\n",
       "</table>\n",
       "</div>"
      ],
      "text/plain": [
       "            beer_name                  style  abv  \\\n",
       "3   #42 Poblano Stout  English Oatmeal Stout    5   \n",
       "8     'Bout Damn Time           American IPA    7   \n",
       "15          (S)Pinner           American IPA    4   \n",
       "36        12 Apostles          German Kölsch    6   \n",
       "39                 13           American IPA    7   \n",
       "\n",
       "                       brewery_name    username review_text  \n",
       "3           Big Choice Brewing, LLC  pblackburn              \n",
       "8           4 Noses Brewing Company  pblackburn              \n",
       "15         Oskar Blues Grill & Brew  pblackburn              \n",
       "36      Westminster Brewing Company  pblackburn              \n",
       "39  Crystal Springs Brewing Company  pblackburn              "
      ]
     },
     "execution_count": 21,
     "metadata": {},
     "output_type": "execute_result"
    }
   ],
   "source": [
    "retrieved_df.head()"
   ]
  },
  {
   "cell_type": "code",
   "execution_count": 22,
   "metadata": {},
   "outputs": [],
   "source": [
    "json_records = retrieved_df.to_dict(\"records\")\n",
    "rank_input = {\n",
    "    'instances': json_records\n",
    "}"
   ]
  },
  {
   "cell_type": "code",
   "execution_count": 23,
   "metadata": {},
   "outputs": [],
   "source": [
    "#returns dictionary of beer names + scores (we only need beer names)\n",
    "rank_result = rank_predictor.predict(rank_input)\n"
   ]
  },
  {
   "cell_type": "code",
   "execution_count": 24,
   "metadata": {},
   "outputs": [
    {
     "name": "stderr",
     "output_type": "stream",
     "text": [
      "/usr/local/lib/python3.7/site-packages/ipykernel_launcher.py:1: SettingWithCopyWarning: \n",
      "A value is trying to be set on a copy of a slice from a DataFrame.\n",
      "Try using .loc[row_indexer,col_indexer] = value instead\n",
      "\n",
      "See the caveats in the documentation: https://pandas.pydata.org/pandas-docs/stable/user_guide/indexing.html#returning-a-view-versus-a-copy\n",
      "  \"\"\"Entry point for launching an IPython kernel.\n"
     ]
    }
   ],
   "source": [
    "retrieved_df['rankings'] = np.array(rank_result['predictions']).reshape(-1,)"
   ]
  },
  {
   "cell_type": "code",
   "execution_count": 25,
   "metadata": {},
   "outputs": [],
   "source": [
    "ranked_beers_df = retrieved_df.sort_values(by=['rankings'], ascending=False)"
   ]
  },
  {
   "cell_type": "code",
   "execution_count": 26,
   "metadata": {},
   "outputs": [],
   "source": [
    "#filter out any beers that I have already tried-\n",
    "ranked_beers_df = ranked_beers_df[~ranked_beers_df['beer_name'].isin(df[df['username']=='pblackburn']['beer_name'])]"
   ]
  },
  {
   "cell_type": "code",
   "execution_count": 27,
   "metadata": {},
   "outputs": [
    {
     "data": {
      "text/html": [
       "<div>\n",
       "<style scoped>\n",
       "    .dataframe tbody tr th:only-of-type {\n",
       "        vertical-align: middle;\n",
       "    }\n",
       "\n",
       "    .dataframe tbody tr th {\n",
       "        vertical-align: top;\n",
       "    }\n",
       "\n",
       "    .dataframe thead th {\n",
       "        text-align: right;\n",
       "    }\n",
       "</style>\n",
       "<table border=\"1\" class=\"dataframe\">\n",
       "  <thead>\n",
       "    <tr style=\"text-align: right;\">\n",
       "      <th></th>\n",
       "      <th>beer_name</th>\n",
       "      <th>style</th>\n",
       "      <th>abv</th>\n",
       "      <th>brewery_name</th>\n",
       "      <th>username</th>\n",
       "      <th>review_text</th>\n",
       "      <th>rankings</th>\n",
       "    </tr>\n",
       "  </thead>\n",
       "  <tbody>\n",
       "    <tr>\n",
       "      <th>1709</th>\n",
       "      <td>Casey Family Preserves - Independence Nectarine</td>\n",
       "      <td>American Wild Ale</td>\n",
       "      <td>6</td>\n",
       "      <td>Casey Brewing &amp; Blending</td>\n",
       "      <td>pblackburn</td>\n",
       "      <td></td>\n",
       "      <td>4.463147</td>\n",
       "    </tr>\n",
       "    <tr>\n",
       "      <th>2067</th>\n",
       "      <td>Coconut Medianoche</td>\n",
       "      <td>American Imperial Stout</td>\n",
       "      <td>14</td>\n",
       "      <td>WeldWerks Brewing Co.</td>\n",
       "      <td>pblackburn</td>\n",
       "      <td></td>\n",
       "      <td>4.450992</td>\n",
       "    </tr>\n",
       "    <tr>\n",
       "      <th>8831</th>\n",
       "      <td>Trophy Hunt</td>\n",
       "      <td>American Imperial Stout</td>\n",
       "      <td>14</td>\n",
       "      <td>Cerebral Brewing</td>\n",
       "      <td>pblackburn</td>\n",
       "      <td></td>\n",
       "      <td>4.447558</td>\n",
       "    </tr>\n",
       "    <tr>\n",
       "      <th>4492</th>\n",
       "      <td>Intergalactic Juice Hunter 4.0</td>\n",
       "      <td>American Imperial IPA</td>\n",
       "      <td>8</td>\n",
       "      <td>Odd13 Brewing</td>\n",
       "      <td>pblackburn</td>\n",
       "      <td></td>\n",
       "      <td>4.430002</td>\n",
       "    </tr>\n",
       "    <tr>\n",
       "      <th>4632</th>\n",
       "      <td>Jumpseat</td>\n",
       "      <td>American Wild Ale</td>\n",
       "      <td>6</td>\n",
       "      <td>Black Project Spontaneous &amp; Wild Ales</td>\n",
       "      <td>pblackburn</td>\n",
       "      <td></td>\n",
       "      <td>4.409402</td>\n",
       "    </tr>\n",
       "  </tbody>\n",
       "</table>\n",
       "</div>"
      ],
      "text/plain": [
       "                                            beer_name  \\\n",
       "1709  Casey Family Preserves - Independence Nectarine   \n",
       "2067                               Coconut Medianoche   \n",
       "8831                                      Trophy Hunt   \n",
       "4492                   Intergalactic Juice Hunter 4.0   \n",
       "4632                                         Jumpseat   \n",
       "\n",
       "                        style  abv                           brewery_name  \\\n",
       "1709        American Wild Ale    6               Casey Brewing & Blending   \n",
       "2067  American Imperial Stout   14                  WeldWerks Brewing Co.   \n",
       "8831  American Imperial Stout   14                       Cerebral Brewing   \n",
       "4492    American Imperial IPA    8                          Odd13 Brewing   \n",
       "4632        American Wild Ale    6  Black Project Spontaneous & Wild Ales   \n",
       "\n",
       "        username review_text  rankings  \n",
       "1709  pblackburn              4.463147  \n",
       "2067  pblackburn              4.450992  \n",
       "8831  pblackburn              4.447558  \n",
       "4492  pblackburn              4.430002  \n",
       "4632  pblackburn              4.409402  "
      ]
     },
     "execution_count": 27,
     "metadata": {},
     "output_type": "execute_result"
    }
   ],
   "source": [
    "ranked_beers_df.head()"
   ]
  },
  {
   "cell_type": "code",
   "execution_count": 28,
   "metadata": {},
   "outputs": [],
   "source": [
    "# Save my list to s3-\n",
    "my_recommendations_path = 'my_beer_recs.csv'\n",
    "ranked_beers_df.to_csv(f's3://{bucket_name}/{my_recommendations_path}', index=False)"
   ]
  },
  {
   "cell_type": "markdown",
   "metadata": {},
   "source": [
    "# Delete Endpoints"
   ]
  },
  {
   "cell_type": "code",
   "execution_count": 29,
   "metadata": {},
   "outputs": [],
   "source": [
    "ret_predictor.delete_endpoint()\n",
    "rank_predictor.delete_endpoint()"
   ]
  },
  {
   "cell_type": "code",
   "execution_count": null,
   "metadata": {},
   "outputs": [],
   "source": []
  }
 ],
 "metadata": {
  "instance_type": "ml.g4dn.xlarge",
  "kernelspec": {
   "display_name": "Python 3 (TensorFlow 2.3 Python 3.7 GPU Optimized)",
   "language": "python",
   "name": "python3__SAGEMAKER_INTERNAL__arn:aws:sagemaker:us-east-2:429704687514:image/tensorflow-2.3-gpu-py37-cu110-ubuntu18.04-v3"
  },
  "language_info": {
   "codemirror_mode": {
    "name": "ipython",
    "version": 3
   },
   "file_extension": ".py",
   "mimetype": "text/x-python",
   "name": "python",
   "nbconvert_exporter": "python",
   "pygments_lexer": "ipython3",
   "version": "3.7.10"
  }
 },
 "nbformat": 4,
 "nbformat_minor": 4
}
